{
  "nbformat": 4,
  "nbformat_minor": 0,
  "metadata": {
    "colab": {
      "name": "VectorizingOutput.ipynb",
      "provenance": [],
      "collapsed_sections": [],
      "machine_shape": "hm"
    },
    "kernelspec": {
      "name": "python3",
      "display_name": "Python 3"
    }
  },
  "cells": [
    {
      "cell_type": "markdown",
      "metadata": {
        "id": "1OX6KvLlrvKk",
        "colab_type": "text"
      },
      "source": [
        "# Imports and Mounting Drive"
      ]
    },
    {
      "cell_type": "code",
      "metadata": {
        "id": "gxcoEdfNg7Kp",
        "colab_type": "code",
        "outputId": "d8515380-db64-4f67-eaf0-3722e969d87f",
        "colab": {
          "base_uri": "https://localhost:8080/",
          "height": 68
        }
      },
      "source": [
        "%matplotlib inline\n",
        "import matplotlib.pyplot as plt\n",
        "import numpy as np\n",
        "import pandas as pd\n",
        "import os\n",
        "from glob import glob\n",
        "import seaborn as sns\n",
        "from PIL import Image\n",
        "np.random.seed(123)\n",
        "from sklearn.preprocessing import label_binarize\n",
        "from sklearn.metrics import confusion_matrix\n",
        "import itertools\n",
        "\n",
        "import keras\n",
        "from keras.utils.np_utils import to_categorical # used for converting labels to one-hot-encoding\n",
        "from keras.models import Sequential\n",
        "from keras.layers import Dense, Dropout, Flatten, Conv2D, MaxPool2D\n",
        "from keras import backend as K\n",
        "import itertools\n",
        "from keras.layers.normalization import BatchNormalization\n",
        "from keras.utils.np_utils import to_categorical # convert to one-hot-encoding\n",
        "\n",
        "from keras.optimizers import Adam\n",
        "from keras.preprocessing.image import ImageDataGenerator\n",
        "from keras.callbacks import ReduceLROnPlateau\n",
        "from sklearn.model_selection import train_test_split"
      ],
      "execution_count": 0,
      "outputs": [
        {
          "output_type": "stream",
          "text": [
            "/usr/local/lib/python3.6/dist-packages/statsmodels/tools/_testing.py:19: FutureWarning: pandas.util.testing is deprecated. Use the functions in the public API at pandas.testing instead.\n",
            "  import pandas.util.testing as tm\n",
            "Using TensorFlow backend.\n"
          ],
          "name": "stderr"
        }
      ]
    },
    {
      "cell_type": "code",
      "metadata": {
        "id": "zes9wDT7d0dl",
        "colab_type": "code",
        "outputId": "547931a3-3794-4ff7-f3b4-05cd89516823",
        "colab": {
          "base_uri": "https://localhost:8080/",
          "height": 122
        }
      },
      "source": [
        "from google.colab import drive\n",
        "drive.mount('/content/gdrive')"
      ],
      "execution_count": 0,
      "outputs": [
        {
          "output_type": "stream",
          "text": [
            "Go to this URL in a browser: https://accounts.google.com/o/oauth2/auth?client_id=947318989803-6bn6qk8qdgf4n4g3pfee6491hc0brc4i.apps.googleusercontent.com&redirect_uri=urn%3aietf%3awg%3aoauth%3a2.0%3aoob&response_type=code&scope=email%20https%3a%2f%2fwww.googleapis.com%2fauth%2fdocs.test%20https%3a%2f%2fwww.googleapis.com%2fauth%2fdrive%20https%3a%2f%2fwww.googleapis.com%2fauth%2fdrive.photos.readonly%20https%3a%2f%2fwww.googleapis.com%2fauth%2fpeopleapi.readonly\n",
            "\n",
            "Enter your authorization code:\n",
            "··········\n",
            "Mounted at /content/gdrive\n"
          ],
          "name": "stdout"
        }
      ]
    },
    {
      "cell_type": "markdown",
      "metadata": {
        "id": "mi6RFZBkry-o",
        "colab_type": "text"
      },
      "source": [
        "Vactorizing the Output (Test) Data"
      ]
    },
    {
      "cell_type": "markdown",
      "metadata": {
        "id": "XQ9WMg0H4RvD",
        "colab_type": "text"
      },
      "source": [
        "Important paths"
      ]
    },
    {
      "cell_type": "code",
      "metadata": {
        "id": "nDNN6kHYfVTi",
        "colab_type": "code",
        "colab": {}
      },
      "source": [
        "path = '/content/gdrive/My Drive/CS 412 PROJECT'\n",
        "path_train = '/content/gdrive/My Drive/CS 412 PROJECT/Train.csv'\n",
        "path_test = '/content/gdrive/My Drive/CS 412 PROJECT/Test.csv'\n",
        "path_img = '/content/gdrive/My Drive/CS 412 PROJECT/Data_SkinCancer/'\n",
        "shapeX = 224\n",
        "shapeY = 224"
      ],
      "execution_count": 0,
      "outputs": []
    },
    {
      "cell_type": "markdown",
      "metadata": {
        "id": "3vkriouo4Uep",
        "colab_type": "text"
      },
      "source": [
        "Reading image id's and categories into a dataframe"
      ]
    },
    {
      "cell_type": "code",
      "metadata": {
        "id": "Y7rA6dpwgNPm",
        "colab_type": "code",
        "colab": {}
      },
      "source": [
        "raw_test = pd.read_csv('/content/gdrive/My Drive/CS 412 PROJECT/data/Test.csv')"
      ],
      "execution_count": 0,
      "outputs": []
    },
    {
      "cell_type": "markdown",
      "metadata": {
        "id": "8EzHZjTk4YwL",
        "colab_type": "text"
      },
      "source": [
        "Creating a dictionary for the image paths"
      ]
    },
    {
      "cell_type": "code",
      "metadata": {
        "id": "tJ0LAIpMlRiW",
        "colab_type": "code",
        "colab": {}
      },
      "source": [
        "path = path_img\n",
        "imageid_path_dict = {os.path.splitext(os.path.basename(x))[0]: x\n",
        "                     for x in glob('/content/gdrive/My Drive/CS 412 PROJECT/Data_SkinCancer/*.jpg')}"
      ],
      "execution_count": 0,
      "outputs": []
    },
    {
      "cell_type": "markdown",
      "metadata": {
        "id": "Tsaqr29p4jHG",
        "colab_type": "text"
      },
      "source": [
        "Adding the image paths into the dataframe"
      ]
    },
    {
      "cell_type": "code",
      "metadata": {
        "id": "18JedsutiJCv",
        "colab_type": "code",
        "colab": {}
      },
      "source": [
        "raw_test['path'] = raw_test['Id'].map(imageid_path_dict.get)"
      ],
      "execution_count": 0,
      "outputs": []
    },
    {
      "cell_type": "code",
      "metadata": {
        "id": "50zNAb7FE_wB",
        "colab_type": "code",
        "outputId": "3d80cb0c-9c08-417b-fe70-b8f5673363b5",
        "colab": {
          "base_uri": "https://localhost:8080/",
          "height": 204
        }
      },
      "source": [
        "raw_test.head()"
      ],
      "execution_count": 0,
      "outputs": [
        {
          "output_type": "execute_result",
          "data": {
            "text/html": [
              "<div>\n",
              "<style scoped>\n",
              "    .dataframe tbody tr th:only-of-type {\n",
              "        vertical-align: middle;\n",
              "    }\n",
              "\n",
              "    .dataframe tbody tr th {\n",
              "        vertical-align: top;\n",
              "    }\n",
              "\n",
              "    .dataframe thead th {\n",
              "        text-align: right;\n",
              "    }\n",
              "</style>\n",
              "<table border=\"1\" class=\"dataframe\">\n",
              "  <thead>\n",
              "    <tr style=\"text-align: right;\">\n",
              "      <th></th>\n",
              "      <th>Id</th>\n",
              "      <th>Category</th>\n",
              "      <th>path</th>\n",
              "    </tr>\n",
              "  </thead>\n",
              "  <tbody>\n",
              "    <tr>\n",
              "      <th>0</th>\n",
              "      <td>Image_10001</td>\n",
              "      <td>0</td>\n",
              "      <td>/content/gdrive/My Drive/CS 412 PROJECT/Data_S...</td>\n",
              "    </tr>\n",
              "    <tr>\n",
              "      <th>1</th>\n",
              "      <td>Image_10002</td>\n",
              "      <td>0</td>\n",
              "      <td>/content/gdrive/My Drive/CS 412 PROJECT/Data_S...</td>\n",
              "    </tr>\n",
              "    <tr>\n",
              "      <th>2</th>\n",
              "      <td>Image_10003</td>\n",
              "      <td>0</td>\n",
              "      <td>/content/gdrive/My Drive/CS 412 PROJECT/Data_S...</td>\n",
              "    </tr>\n",
              "    <tr>\n",
              "      <th>3</th>\n",
              "      <td>Image_10004</td>\n",
              "      <td>0</td>\n",
              "      <td>/content/gdrive/My Drive/CS 412 PROJECT/Data_S...</td>\n",
              "    </tr>\n",
              "    <tr>\n",
              "      <th>4</th>\n",
              "      <td>Image_10005</td>\n",
              "      <td>0</td>\n",
              "      <td>/content/gdrive/My Drive/CS 412 PROJECT/Data_S...</td>\n",
              "    </tr>\n",
              "  </tbody>\n",
              "</table>\n",
              "</div>"
            ],
            "text/plain": [
              "            Id  Category                                               path\n",
              "0  Image_10001         0  /content/gdrive/My Drive/CS 412 PROJECT/Data_S...\n",
              "1  Image_10002         0  /content/gdrive/My Drive/CS 412 PROJECT/Data_S...\n",
              "2  Image_10003         0  /content/gdrive/My Drive/CS 412 PROJECT/Data_S...\n",
              "3  Image_10004         0  /content/gdrive/My Drive/CS 412 PROJECT/Data_S...\n",
              "4  Image_10005         0  /content/gdrive/My Drive/CS 412 PROJECT/Data_S..."
            ]
          },
          "metadata": {
            "tags": []
          },
          "execution_count": 12
        }
      ]
    },
    {
      "cell_type": "markdown",
      "metadata": {
        "id": "Nc2HmSsc47bH",
        "colab_type": "text"
      },
      "source": [
        "Vectorizing images and resizing to 100x75 because original size is 600x450 using the paths abd Image function of PIL (Python Imaging Library) //takes approximately 1 hour"
      ]
    },
    {
      "cell_type": "code",
      "metadata": {
        "id": "m-6VesvinPwH",
        "colab_type": "code",
        "colab": {}
      },
      "source": [
        "raw_test['image'] = raw_test['path'].map(lambda x: np.asarray(Image.open(x).resize((shapeX,shapeY))))"
      ],
      "execution_count": 0,
      "outputs": []
    },
    {
      "cell_type": "markdown",
      "metadata": {
        "id": "bCwRzbI-5Ohe",
        "colab_type": "text"
      },
      "source": [
        "Showing one intance"
      ]
    },
    {
      "cell_type": "code",
      "metadata": {
        "id": "IjuxthHcnwY-",
        "colab_type": "code",
        "colab": {}
      },
      "source": [
        "plt.imshow(raw_test['image'][0], interpolation='nearest')\n",
        "plt.show()"
      ],
      "execution_count": 0,
      "outputs": []
    },
    {
      "cell_type": "code",
      "metadata": {
        "id": "t9-sQFNGSXCD",
        "colab_type": "code",
        "colab": {}
      },
      "source": [
        "raw_test[\"image\"][0].shape\n",
        "# raw_test['image'] = raw_test['image'].map(lambda img: img/255) #decided not to use because takes a lot of RAM"
      ],
      "execution_count": 0,
      "outputs": []
    },
    {
      "cell_type": "code",
      "metadata": {
        "id": "dtGGPAbB4j7v",
        "colab_type": "code",
        "colab": {}
      },
      "source": [
        "raw_test.to_pickle('/content/gdrive/My Drive/CS 412 PROJECT/testRAW'+str(shapeX)+'x'+str(shapeY)+'.csv')"
      ],
      "execution_count": 0,
      "outputs": []
    },
    {
      "cell_type": "code",
      "metadata": {
        "id": "RGXhlXCks8k3",
        "colab_type": "code",
        "colab": {}
      },
      "source": [
        "final_df = pd.read_pickle('/content/gdrive/My Drive/CS 412 PROJECT/testRAW'+str(shapeX)+'x'+str(shapeY)+'.csv')\n",
        "final_df['image'][0].shape"
      ],
      "execution_count": 0,
      "outputs": []
    },
    {
      "cell_type": "code",
      "metadata": {
        "id": "kGwxRESlTqbR",
        "colab_type": "code",
        "colab": {}
      },
      "source": [
        ""
      ],
      "execution_count": 0,
      "outputs": []
    }
  ]
}